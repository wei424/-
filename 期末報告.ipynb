{
  "nbformat": 4,
  "nbformat_minor": 0,
  "metadata": {
    "colab": {
      "provenance": [],
      "authorship_tag": "ABX9TyMB4jBFxEwd64/931HUnAEy",
      "include_colab_link": true
    },
    "kernelspec": {
      "name": "python3",
      "display_name": "Python 3"
    },
    "language_info": {
      "name": "python"
    }
  },
  "cells": [
    {
      "cell_type": "markdown",
      "metadata": {
        "id": "view-in-github",
        "colab_type": "text"
      },
      "source": [
        "<a href=\"https://colab.research.google.com/github/wei424/Operation1/blob/main/%E6%9C%9F%E6%9C%AB%E5%A0%B1%E5%91%8A.ipynb\" target=\"_parent\"><img src=\"https://colab.research.google.com/assets/colab-badge.svg\" alt=\"Open In Colab\"/></a>"
      ]
    },
    {
      "cell_type": "code",
      "source": [
        "import math\n",
        "\n",
        "class City:\n",
        "    def __init__(self, name, x, y, accommodation_cost):\n",
        "        self.name = name\n",
        "        self.x = x\n",
        "        self.y = y\n",
        "        self.accommodation_cost = accommodation_cost\n",
        "\n",
        "def calculate_discount(previous_city, current_city):\n",
        "    if previous_city.name in ['C', 'G'] and current_city.name == 'A':\n",
        "        return 0.8\n",
        "    elif previous_city.name in ['A', 'B'] and current_city.name == 'D':\n",
        "        return 0.8\n",
        "    elif previous_city.name in ['B', 'F'] and current_city.name == 'E':\n",
        "        return 0.8\n",
        "    elif previous_city.name in ['A', 'C'] and current_city.name == 'F':\n",
        "        return 0.8\n",
        "    else:\n",
        "        return 1.0\n",
        "\n",
        "def calculate_distance(city1, city2):\n",
        "    return math.sqrt((city1.x - city2.x)**2 + (city1.y - city2.y)**2)\n",
        "\n",
        "def calculate_total_cost(travel_order):\n",
        "    total_cost = 0\n",
        "    previous_city = None\n",
        "\n",
        "    for current_city in travel_order:\n",
        "        if previous_city is not None:\n",
        "            discount = calculate_discount(previous_city, current_city)\n",
        "            distance = calculate_distance(previous_city, current_city)\n",
        "            fuel_cost = distance * 100\n",
        "            accommodation_cost = current_city.accommodation_cost * discount\n",
        "            total_cost += fuel_cost + accommodation_cost\n",
        "\n",
        "        previous_city = current_city\n",
        "\n",
        "    return total_cost\n",
        "\n",
        "# 建立城市物件\n",
        "A = City('A', 0, 0, 2000)\n",
        "B = City('B', 0, 120, 2400)\n",
        "C = City('C', 30, 100, 2400)\n",
        "D = City('D', 80, 0, 1600)\n",
        "E = City('E', 45, 10, 1500)\n",
        "F = City('F', 90, 160, 2200)\n",
        "G = City('G', 120, 200, 1200)\n",
        "\n",
        "cities = [A, B, C, D, E, F, G]\n",
        "visited_cities = []\n",
        "travel_order = []\n",
        "\n",
        "# 選擇起始城市\n",
        "current_city = A\n",
        "visited_cities.append(current_city)\n",
        "\n",
        "# 重複遊覽城市，直到所有城市都被遊覽\n",
        "while len(visited_cities) < len(cities):\n",
        "    shortest_distance = float('inf')\n",
        "    next_city = None\n",
        "\n",
        "    # 對於每個未遊覽的城市，找出距離最短的下一個城市\n",
        "    for city in cities:\n",
        "        if city not in visited_cities:\n",
        "            distance = calculate_distance(current_city, city)\n",
        "            if distance < shortest_distance:\n",
        "                shortest_distance = distance\n",
        "                next_city = city\n",
        "\n",
        "    # 將下一個城市加入已遊覽城市列表，更新當前城市\n",
        "    visited_cities.append(next_city)\n",
        "    current_city = next_city\n",
        "    travel_order.append(current_city)\n",
        "\n",
        "# 計算旅費並列印結果\n",
        "total_cost = calculate_total_cost(travel_order)\n",
        "\n",
        "print(\"遊覽順序：\", [city.name for city in travel_order])\n",
        "print(\"總旅費：\", int(total_cost))\n"
      ],
      "metadata": {
        "colab": {
          "base_uri": "https://localhost:8080/"
        },
        "id": "249T2z3fqgqe",
        "outputId": "ae6bb2f4-fa19-4cc6-db81-d74af1e714ec"
      },
      "execution_count": 6,
      "outputs": [
        {
          "output_type": "stream",
          "name": "stdout",
          "text": [
            "遊覽順序： ['E', 'D', 'C', 'B', 'F', 'G']\n",
            "總旅費： 43074\n"
          ]
        }
      ]
    }
  ]
}